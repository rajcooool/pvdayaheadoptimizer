# This is a simple script to print "Hello, World!"

# Print the message
print("Hello, World!")
